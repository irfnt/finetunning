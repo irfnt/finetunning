{
 "cells": [
  {
   "cell_type": "code",
   "execution_count": 1,
   "id": "53d0ac79-f17e-4e5b-bd12-56e8b4d0da74",
   "metadata": {},
   "outputs": [],
   "source": [
    "from transformers import (\n",
    "    AutoModelForCausalLM, \n",
    "    logging, \n",
    "    pipeline,\n",
    "    AutoTokenizer\n",
    ")"
   ]
  },
  {
   "cell_type": "code",
   "execution_count": 2,
   "id": "cae093e2-62cb-4d56-a1f6-f7e7f33993f2",
   "metadata": {},
   "outputs": [
    {
     "name": "stderr",
     "output_type": "stream",
     "text": [
      "Special tokens have been added in the vocabulary, make sure the associated word embeddings are fine-tuned or trained.\n",
      "Special tokens have been added in the vocabulary, make sure the associated word embeddings are fine-tuned or trained.\n"
     ]
    }
   ],
   "source": [
    "model = AutoModelForCausalLM.from_pretrained('outputs/qwen_05b_code/best_model/')\n",
    "tokenizer = AutoTokenizer.from_pretrained('outputs/qwen_05b_code/best_model/')"
   ]
  },
  {
   "cell_type": "code",
   "execution_count": 3,
   "id": "6f8e30cc-fe7e-4253-93e0-49b3544ede66",
   "metadata": {},
   "outputs": [],
   "source": [
    "pipe = pipeline(\n",
    "    task='text-generation', \n",
    "    model=model, \n",
    "    tokenizer=tokenizer, \n",
    "    max_length=512,\n",
    "    device='cuda',\n",
    "    eos_token_id=tokenizer.eos_token_id\n",
    ")"
   ]
  },
  {
   "cell_type": "code",
   "execution_count": 4,
   "id": "3a049248-b254-48ec-a07c-e0be51eea911",
   "metadata": {},
   "outputs": [],
   "source": [
    "logging.set_verbosity(logging.CRITICAL)"
   ]
  },
  {
   "cell_type": "code",
   "execution_count": 5,
   "id": "fe3c887a-4902-4d69-a9c2-7d3329814fbe",
   "metadata": {},
   "outputs": [
    {
     "name": "stdout",
     "output_type": "stream",
     "text": [
      "### Instruction:\n",
      "Write Python code for merge sort.\n",
      "\n",
      "### Input:\n",
      "\n",
      "\n",
      "### Response:\n",
      "def merge_sort(arr): \n",
      "    if len(arr) > 1: \n",
      "        mid = len(arr)//2 \n",
      "        left = arr[:mid] \n",
      "        right = arr[mid:] \n",
      "  \n",
      "        merge_sort(left) \n",
      "        merge_sort(right) \n",
      "  \n",
      "        i = j = k = 0\n",
      "        while i < len(left) and j < len(right): \n",
      "            if left[i] < right[j]: \n",
      "                arr[k] = left[i] \n",
      "                i+=1\n",
      "            else: \n",
      "                arr[k] = right[j] \n",
      "                j+=1\n",
      "            k+=1\n",
      "        while i < len(left): \n",
      "            arr[k] = left[i] \n",
      "            i+=1\n",
      "            k+=1\n",
      "        while j < len(right): \n",
      "            arr[k] = right[j] \n",
      "            j+=1\n",
      "            k+=1\n"
     ]
    }
   ],
   "source": [
    "prompt = \"\"\"### Instruction:\n",
    "Write Python code for merge sort.\n",
    "\n",
    "### Input:\n",
    "\n",
    "\n",
    "### Response:\n",
    "\"\"\"\n",
    "\n",
    "result = pipe(\n",
    "    prompt\n",
    ")\n",
    "print(result[0]['generated_text'])"
   ]
  },
  {
   "cell_type": "code",
   "execution_count": 6,
   "id": "a247f8ae-884b-43e7-965b-6a07dc83660a",
   "metadata": {},
   "outputs": [
    {
     "name": "stdout",
     "output_type": "stream",
     "text": [
      "### Instruction:\n",
      "How do you filter data in an SQL query using custom conditions? Give an example.\n",
      "\n",
      "### Input:\n",
      "\n",
      "\n",
      "### Response:\n",
      "SELECT * FROM table_name WHERE condition1 = 'value1' AND condition2 = 'value2';\n"
     ]
    }
   ],
   "source": [
    "prompt = \"\"\"### Instruction:\n",
    "How do you filter data in an SQL query using custom conditions? Give an example.\n",
    "\n",
    "### Input:\n",
    "\n",
    "\n",
    "### Response:\n",
    "\"\"\"\n",
    "\n",
    "result = pipe(\n",
    "    prompt\n",
    ")\n",
    "print(result[0]['generated_text'])"
   ]
  },
  {
   "cell_type": "code",
   "execution_count": 9,
   "id": "9af2dc1d-51ff-4bf3-a396-ce82359eb787",
   "metadata": {},
   "outputs": [
    {
     "name": "stdout",
     "output_type": "stream",
     "text": [
      "### Instruction:\n",
      "Write an SQL query to find the students who have a GPA of exactly 5 and have the name 'Goerge Russel'. Check for both first name and last name of 'George Russel'.\n",
      "\n",
      "### Input:\n",
      "\n",
      "\n",
      "### Response:\n",
      "SELECT * FROM students WHERE first_name = 'George' AND last_name = 'Russel' AND gpa = 5;\n"
     ]
    }
   ],
   "source": [
    "prompt = \"\"\"### Instruction:\n",
    "Write an SQL query to find the students who have a GPA of exactly 5 and have the name 'Goerge Russel'. Check for both first name and last name of 'George Russel'.\n",
    "\n",
    "### Input:\n",
    "\n",
    "\n",
    "### Response:\n",
    "\"\"\"\n",
    "\n",
    "result = pipe(\n",
    "    prompt\n",
    ")\n",
    "print(result[0]['generated_text'])"
   ]
  },
  {
   "cell_type": "code",
   "execution_count": null,
   "id": "7ce53693-a1e7-417b-b78e-b7464f3cee5d",
   "metadata": {},
   "outputs": [],
   "source": []
  },
  {
   "cell_type": "code",
   "execution_count": null,
   "id": "8d01d645-8f49-4221-945f-d7381005e90f",
   "metadata": {},
   "outputs": [],
   "source": []
  }
 ],
 "metadata": {
  "kernelspec": {
   "display_name": "Python 3 (ipykernel)",
   "language": "python",
   "name": "python3"
  },
  "language_info": {
   "codemirror_mode": {
    "name": "ipython",
    "version": 3
   },
   "file_extension": ".py",
   "mimetype": "text/x-python",
   "name": "python",
   "nbconvert_exporter": "python",
   "pygments_lexer": "ipython3",
   "version": "3.10.13"
  }
 },
 "nbformat": 4,
 "nbformat_minor": 5
}
